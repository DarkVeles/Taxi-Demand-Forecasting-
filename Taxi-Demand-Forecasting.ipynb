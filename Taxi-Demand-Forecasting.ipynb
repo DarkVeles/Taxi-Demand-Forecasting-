{
 "cells": [
  {
   "cell_type": "markdown",
   "id": "661c2d96-0787-4c96-9e54-6965467ab099",
   "metadata": {},
   "source": [
    "# Прогнозирование заказов такси на основе временных рядов\n",
    "\n",
    "## Описание проекта\n",
    "Компания «Чётенькое такси» собирает исторические данные о заказах такси в аэропортах. Для более эффективного управления парком автомобилей в периоды пиковой нагрузки требуется предсказать количество заказов на следующий час. Цель данного проекта — построить модель машинного обучения, которая будет прогнозировать число заказов такси на час вперёд. Модель должна обеспечить значение метрики RMSE (Root Mean Squared Error) не больше 48 на тестовой выборке.\n",
    "\n",
    "## Описание данных\n",
    "Данные предоставлены в виде временного ряда и хранятся в файле `/datasets/taxi.csv`. В таблице содержатся следующие столбцы:\n",
    "\n",
    "- `datetime`: метка времени, к которой относятся данные о количестве заказов.\n",
    "- `num_orders`: количество заказов такси в указанный час.\n",
    "\n",
    "Для решения задачи будет выполнено ресемплирование данных по одному часу, а также анализ сезонности, трендов и других временных характеристик. Данные будут подготовлены для моделирования, и будут протестированы различные модели и гиперпараметры для минимизации ошибки прогноза.\n"
   ]
  },
  {
   "cell_type": "markdown",
   "id": "6cd4f7f0-b007-48f6-a62e-c34882eee674",
   "metadata": {},
   "source": [
    "# Загрузка и первичный анализ данных: "
   ]
  },
  {
   "cell_type": "code",
   "execution_count": 1,
   "id": "11082ac9-82ec-4542-9a5d-246eaefae702",
   "metadata": {},
   "outputs": [
    {
     "name": "stdout",
     "output_type": "stream",
     "text": [
      "\u001b[33mWARNING: Ignoring invalid distribution -cikit-learn (/opt/conda/lib/python3.9/site-packages)\u001b[0m\n",
      "\u001b[33mWARNING: Ignoring invalid distribution -cikit-learn (/opt/conda/lib/python3.9/site-packages)\u001b[0m\n",
      "\u001b[33mWARNING: Ignoring invalid distribution -cikit-learn (/opt/conda/lib/python3.9/site-packages)\u001b[0m\n",
      "\u001b[33mWARNING: Ignoring invalid distribution -cikit-learn (/opt/conda/lib/python3.9/site-packages)\u001b[0m\n",
      "\u001b[33mWARNING: Ignoring invalid distribution -cikit-learn (/opt/conda/lib/python3.9/site-packages)\u001b[0m\n",
      "\u001b[33mWARNING: Ignoring invalid distribution -cikit-learn (/opt/conda/lib/python3.9/site-packages)\u001b[0m\n"
     ]
    }
   ],
   "source": [
    "!pip install xgboost -q"
   ]
  },
  {
   "cell_type": "code",
   "execution_count": 2,
   "id": "a961c9fc-f5f1-4186-837f-8910768b044d",
   "metadata": {},
   "outputs": [],
   "source": [
    "import pandas as pd\n",
    "import matplotlib.pyplot as plt\n",
    "from statsmodels.tsa.seasonal import seasonal_decompose\n",
    "from sklearn.pipeline import Pipeline\n",
    "from sklearn.model_selection import TimeSeriesSplit, RandomizedSearchCV\n",
    "from sklearn.ensemble import RandomForestRegressor\n",
    "from sklearn.linear_model import LinearRegression\n",
    "from sklearn.preprocessing import StandardScaler\n",
    "from lightgbm import LGBMRegressor\n",
    "from xgboost import XGBRegressor\n",
    "from sklearn.pipeline import Pipeline\n",
    "from sklearn.compose import ColumnTransformer\n",
    "from sklearn.preprocessing import OneHotEncoder\n",
    "from sklearn.metrics import mean_squared_error"
   ]
  },
  {
   "cell_type": "code",
   "execution_count": 3,
   "id": "e8eef345-238e-45ab-b597-51f5f8730246",
   "metadata": {},
   "outputs": [
    {
     "name": "stdout",
     "output_type": "stream",
     "text": [
      "Данные загружены по ссылке.\n"
     ]
    }
   ],
   "source": [
    "try:\n",
    "    data = pd.read_csv('/datasets/taxi.csv', index_col=[0], parse_dates=[0])  \n",
    "    print(\"Данные загружены по ссылке.\")\n",
    "except:\n",
    "    data = pd.read_csv(\"taxi.csv\", index_col=[0], parse_dates=[0])  \n",
    "    print(\"Данные успешно загружены локально.\")"
   ]
  },
  {
   "cell_type": "code",
   "execution_count": 4,
   "id": "c5424186-e7a1-48fb-840a-53dce4077324",
   "metadata": {},
   "outputs": [
    {
     "name": "stdout",
     "output_type": "stream",
     "text": [
      "Количество пропусков в каждом столбце:\n",
      "num_orders    0\n",
      "dtype: int64\n"
     ]
    }
   ],
   "source": [
    "# Проверим наличие пропусков в данных\n",
    "missing_values = data.isnull().sum()\n",
    "print(\"Количество пропусков в каждом столбце:\")\n",
    "print(missing_values)"
   ]
  },
  {
   "cell_type": "code",
   "execution_count": 5,
   "id": "2adf80dd-0261-44a8-ab40-8c9a8558f7b7",
   "metadata": {},
   "outputs": [
    {
     "name": "stdout",
     "output_type": "stream",
     "text": [
      "\n",
      "Количество пропусков в индексе: 0\n"
     ]
    }
   ],
   "source": [
    "# Проверим на наличие пропусков в индексе\n",
    "missing_index = data.index.isnull().sum()\n",
    "print(f\"\\nКоличество пропусков в индексе: {missing_index}\")"
   ]
  },
  {
   "cell_type": "code",
   "execution_count": 6,
   "id": "9791cb35-a244-4cbb-b847-6e1ff8e58c43",
   "metadata": {},
   "outputs": [
    {
     "name": "stdout",
     "output_type": "stream",
     "text": [
      "\n",
      "Первые строки данных:\n"
     ]
    },
    {
     "data": {
      "text/html": [
       "<div>\n",
       "<style scoped>\n",
       "    .dataframe tbody tr th:only-of-type {\n",
       "        vertical-align: middle;\n",
       "    }\n",
       "\n",
       "    .dataframe tbody tr th {\n",
       "        vertical-align: top;\n",
       "    }\n",
       "\n",
       "    .dataframe thead th {\n",
       "        text-align: right;\n",
       "    }\n",
       "</style>\n",
       "<table border=\"1\" class=\"dataframe\">\n",
       "  <thead>\n",
       "    <tr style=\"text-align: right;\">\n",
       "      <th></th>\n",
       "      <th>num_orders</th>\n",
       "    </tr>\n",
       "    <tr>\n",
       "      <th>datetime</th>\n",
       "      <th></th>\n",
       "    </tr>\n",
       "  </thead>\n",
       "  <tbody>\n",
       "    <tr>\n",
       "      <th>2018-03-01 00:00:00</th>\n",
       "      <td>9</td>\n",
       "    </tr>\n",
       "    <tr>\n",
       "      <th>2018-03-01 00:10:00</th>\n",
       "      <td>14</td>\n",
       "    </tr>\n",
       "    <tr>\n",
       "      <th>2018-03-01 00:20:00</th>\n",
       "      <td>28</td>\n",
       "    </tr>\n",
       "    <tr>\n",
       "      <th>2018-03-01 00:30:00</th>\n",
       "      <td>20</td>\n",
       "    </tr>\n",
       "    <tr>\n",
       "      <th>2018-03-01 00:40:00</th>\n",
       "      <td>32</td>\n",
       "    </tr>\n",
       "  </tbody>\n",
       "</table>\n",
       "</div>"
      ],
      "text/plain": [
       "                     num_orders\n",
       "datetime                       \n",
       "2018-03-01 00:00:00           9\n",
       "2018-03-01 00:10:00          14\n",
       "2018-03-01 00:20:00          28\n",
       "2018-03-01 00:30:00          20\n",
       "2018-03-01 00:40:00          32"
      ]
     },
     "metadata": {},
     "output_type": "display_data"
    }
   ],
   "source": [
    "# Посмотрим на несколько первых строк данных\n",
    "print(\"\\nПервые строки данных:\")\n",
    "display(data.head())"
   ]
  },
  {
   "cell_type": "code",
   "execution_count": 7,
   "id": "faf9d789-7f49-426b-b0a5-46e401e45cc2",
   "metadata": {},
   "outputs": [
    {
     "name": "stdout",
     "output_type": "stream",
     "text": [
      "Индекс монотонно возрастает: True\n"
     ]
    }
   ],
   "source": [
    "# Проверим, является ли индекс монотонно возрастающим\n",
    "is_monotonic = data.index.is_monotonic_increasing\n",
    "print(f\"Индекс монотонно возрастает: {is_monotonic}\")"
   ]
  },
  {
   "cell_type": "code",
   "execution_count": 8,
   "id": "064e137e-de33-4369-9818-21ee32a3cb9e",
   "metadata": {
    "scrolled": true
   },
   "outputs": [
    {
     "name": "stdout",
     "output_type": "stream",
     "text": [
      "\n",
      "Основные статистики:\n"
     ]
    },
    {
     "data": {
      "text/html": [
       "<div>\n",
       "<style scoped>\n",
       "    .dataframe tbody tr th:only-of-type {\n",
       "        vertical-align: middle;\n",
       "    }\n",
       "\n",
       "    .dataframe tbody tr th {\n",
       "        vertical-align: top;\n",
       "    }\n",
       "\n",
       "    .dataframe thead th {\n",
       "        text-align: right;\n",
       "    }\n",
       "</style>\n",
       "<table border=\"1\" class=\"dataframe\">\n",
       "  <thead>\n",
       "    <tr style=\"text-align: right;\">\n",
       "      <th></th>\n",
       "      <th>num_orders</th>\n",
       "    </tr>\n",
       "  </thead>\n",
       "  <tbody>\n",
       "    <tr>\n",
       "      <th>count</th>\n",
       "      <td>26496.000000</td>\n",
       "    </tr>\n",
       "    <tr>\n",
       "      <th>mean</th>\n",
       "      <td>14.070463</td>\n",
       "    </tr>\n",
       "    <tr>\n",
       "      <th>std</th>\n",
       "      <td>9.211330</td>\n",
       "    </tr>\n",
       "    <tr>\n",
       "      <th>min</th>\n",
       "      <td>0.000000</td>\n",
       "    </tr>\n",
       "    <tr>\n",
       "      <th>25%</th>\n",
       "      <td>8.000000</td>\n",
       "    </tr>\n",
       "    <tr>\n",
       "      <th>50%</th>\n",
       "      <td>13.000000</td>\n",
       "    </tr>\n",
       "    <tr>\n",
       "      <th>75%</th>\n",
       "      <td>19.000000</td>\n",
       "    </tr>\n",
       "    <tr>\n",
       "      <th>max</th>\n",
       "      <td>119.000000</td>\n",
       "    </tr>\n",
       "  </tbody>\n",
       "</table>\n",
       "</div>"
      ],
      "text/plain": [
       "         num_orders\n",
       "count  26496.000000\n",
       "mean      14.070463\n",
       "std        9.211330\n",
       "min        0.000000\n",
       "25%        8.000000\n",
       "50%       13.000000\n",
       "75%       19.000000\n",
       "max      119.000000"
      ]
     },
     "metadata": {},
     "output_type": "display_data"
    }
   ],
   "source": [
    "# Посмотрим основные статистики для числовых столбцов\n",
    "print(\"\\nОсновные статистики:\")\n",
    "display(data.describe())"
   ]
  },
  {
   "cell_type": "code",
   "execution_count": 9,
   "id": "2e29ae7e-35af-4d72-b909-46356a2fbcff",
   "metadata": {},
   "outputs": [
    {
     "name": "stdout",
     "output_type": "stream",
     "text": [
      "Количество дублирующихся временных меток: 0\n"
     ]
    }
   ],
   "source": [
    "# Проверим, есть ли дублирующиеся временные метки\n",
    "duplicate_timestamps = data.index.duplicated().sum()\n",
    "print(f\"Количество дублирующихся временных меток: {duplicate_timestamps}\")"
   ]
  },
  {
   "cell_type": "markdown",
   "id": "4f5ed15c-ef4b-420d-aacf-a87cac6e6ecb",
   "metadata": {},
   "source": [
    "## 1. Итоги \n",
    "\n",
    "Данные успешно загружены и включают следующие столбцы:\n",
    "- `datetime`: метка времени, к которой относятся данные о количестве заказов.\n",
    "- `num_orders`: количество заказов такси в указанный час.\n",
    "\n",
    "### Проверка данных\n",
    "- **Пропуски в данных:** Проверка показала, что в данных отсутствуют пропуски.\n",
    "- **Проверка на дубликаты:** Дубликатов по временным меткам не обнаружено. Проверка на повторяющиеся значения в столбце `num_orders` неактуальна, так как значения могут повторяться в разные временные моменты.\n",
    "- **Монотонность временных данных:** Временные метки являются монотонно возрастающими.\n",
    "\n",
    "### Статистический анализ\n",
    "- **Основные статистики по количеству заказов:** Среднее значение составляет 14.07, а максимум — 119 заказов в час. Это говорит о значительной вариации в спросе.\n"
   ]
  },
  {
   "cell_type": "markdown",
   "id": "70c6a53b-2c7d-4789-b482-650fdedd45e1",
   "metadata": {},
   "source": [
    "# Ресемплирование по одному часу:"
   ]
  },
  {
   "cell_type": "code",
   "execution_count": 10,
   "id": "ff139716-dfca-40a3-9cb2-6309ae37a7f0",
   "metadata": {},
   "outputs": [
    {
     "data": {
      "text/html": [
       "<div>\n",
       "<style scoped>\n",
       "    .dataframe tbody tr th:only-of-type {\n",
       "        vertical-align: middle;\n",
       "    }\n",
       "\n",
       "    .dataframe tbody tr th {\n",
       "        vertical-align: top;\n",
       "    }\n",
       "\n",
       "    .dataframe thead th {\n",
       "        text-align: right;\n",
       "    }\n",
       "</style>\n",
       "<table border=\"1\" class=\"dataframe\">\n",
       "  <thead>\n",
       "    <tr style=\"text-align: right;\">\n",
       "      <th></th>\n",
       "      <th>num_orders</th>\n",
       "    </tr>\n",
       "    <tr>\n",
       "      <th>datetime</th>\n",
       "      <th></th>\n",
       "    </tr>\n",
       "  </thead>\n",
       "  <tbody>\n",
       "    <tr>\n",
       "      <th>2018-03-01 00:00:00</th>\n",
       "      <td>124</td>\n",
       "    </tr>\n",
       "    <tr>\n",
       "      <th>2018-03-01 01:00:00</th>\n",
       "      <td>85</td>\n",
       "    </tr>\n",
       "    <tr>\n",
       "      <th>2018-03-01 02:00:00</th>\n",
       "      <td>71</td>\n",
       "    </tr>\n",
       "    <tr>\n",
       "      <th>2018-03-01 03:00:00</th>\n",
       "      <td>66</td>\n",
       "    </tr>\n",
       "    <tr>\n",
       "      <th>2018-03-01 04:00:00</th>\n",
       "      <td>43</td>\n",
       "    </tr>\n",
       "  </tbody>\n",
       "</table>\n",
       "</div>"
      ],
      "text/plain": [
       "                     num_orders\n",
       "datetime                       \n",
       "2018-03-01 00:00:00         124\n",
       "2018-03-01 01:00:00          85\n",
       "2018-03-01 02:00:00          71\n",
       "2018-03-01 03:00:00          66\n",
       "2018-03-01 04:00:00          43"
      ]
     },
     "metadata": {},
     "output_type": "display_data"
    }
   ],
   "source": [
    "# Ресемплирование данных по одному часу, суммируя количество заказов\n",
    "data_hourly = data.resample('H').sum()\n",
    "\n",
    "# Проверим результаты\n",
    "display(data_hourly.head())"
   ]
  },
  {
   "cell_type": "code",
   "execution_count": 11,
   "id": "8a8d582c-c044-42cd-b274-3040f2f9a27f",
   "metadata": {
    "scrolled": false
   },
   "outputs": [
    {
     "data": {
      "image/png": "[encoded data removed]",
      "text/plain": [
       "<Figure size 864x432 with 1 Axes>"
      ]
     },
     "metadata": {
      "needs_background": "light"
     },
     "output_type": "display_data"
    }
   ],
   "source": [
    "# Построим график количества заказов по времени\n",
    "plt.figure(figsize=(12, 6))\n",
    "plt.plot(data_hourly.index, data_hourly['num_orders'], label='Количество заказов')\n",
    "plt.title('Количество заказов такси по времени')\n",
    "plt.xlabel('Время')\n",
    "plt.ylabel('Количество заказов')\n",
    "plt.legend()\n",
    "plt.grid()\n",
    "plt.show()"
   ]
  },
  {
   "cell_type": "markdown",
   "id": "a9e6732d-4691-4494-bd63-895b37e580f7",
   "metadata": {},
   "source": [
    "## 2. Итог\n",
    "\n",
    "Данные были ресемплированы по одному часу. После этого мы построили график, который показывает, что в некоторые периоды (например, летом и ближе к концу данных) наблюдаются более высокие пики спроса. Это может быть связано с праздниками, погодными условиями или другими факторами.\n",
    "\n",
    "### Визуализация\n",
    "На графике видны колебания спроса на такси, а также пики, которые могут свидетельствовать о периодах повышенного спроса.\n"
   ]
  },
  {
   "cell_type": "code",
   "execution_count": 12,
   "id": "24681d9a-3d80-489b-a94e-9164a73a1955",
   "metadata": {},
   "outputs": [
    {
     "data": {
      "image/png": "[encoded data removed]",
      "text/plain": [
       "<Figure size 1008x432 with 2 Axes>"
      ]
     },
     "metadata": {
      "needs_background": "light"
     },
     "output_type": "display_data"
    }
   ],
   "source": [
    "# Анализ суточной сезонности\n",
    "hourly_pattern = data_hourly.groupby(data_hourly.index.hour).mean()\n",
    "\n",
    "# Анализ недельной сезонности\n",
    "weekly_pattern = data_hourly.groupby(data_hourly.index.dayofweek).mean()\n",
    "\n",
    "# Построим графики\n",
    "plt.figure(figsize=(14, 6))\n",
    "\n",
    "# Суточная сезонность\n",
    "plt.subplot(1, 2, 1)\n",
    "plt.plot(hourly_pattern.index, hourly_pattern['num_orders'], label='Среднее количество заказов')\n",
    "plt.title('Суточная сезонность')\n",
    "plt.xlabel('Час дня')\n",
    "plt.ylabel('Среднее количество заказов')\n",
    "plt.grid()\n",
    "plt.legend()\n",
    "\n",
    "# Недельная сезонность\n",
    "plt.subplot(1, 2, 2)\n",
    "plt.plot(weekly_pattern.index, weekly_pattern['num_orders'], label='Среднее количество заказов', color='orange')\n",
    "plt.title('Недельная сезонность')\n",
    "plt.xlabel('День недели (0=Понедельник)')\n",
    "plt.ylabel('Среднее количество заказов')\n",
    "plt.grid()\n",
    "plt.legend()\n",
    "\n",
    "plt.tight_layout()\n",
    "plt.show()\n"
   ]
  },
  {
   "cell_type": "markdown",
   "id": "37724f4e-fd7c-44b5-9aac-03fd34c9c486",
   "metadata": {},
   "source": [
    "## Выводы по анализу суточной и недельной сезонности\n",
    "\n",
    "### Суточная сезонность\n",
    "- С 00:00 до 05:00 наблюдается минимальный спрос на такси, что связано с наименьшей активностью в ночное время.\n",
    "- Утренний пик спроса начинается около 6:00 и достигает максимума около 16:00, что может быть связано с поездками на работу и обратно.\n",
    "\n",
    "### Недельная сезонность\n",
    "- Понедельник выделяется как день с наименьшим количеством заказов, что может быть связано с началом рабочей недели.\n",
    "- Четверг демонстрирует пик спроса на такси, вероятно, из-за подготовки к выходным и активных поездок в этот день.\n",
    "- В выходные дни (особенно в воскресенье) спрос немного снижается, что может быть связано с более спокойным образом жизни и меньшим количеством поездок.\n",
    "\n",
    "Анализ суточной и недельной сезонности позволяет выявить паттерны, которые помогут более точно прогнозировать количество заказов в зависимости от времени суток и дня недели.\n"
   ]
  },
  {
   "cell_type": "code",
   "execution_count": 13,
   "id": "59b382d7",
   "metadata": {},
   "outputs": [
    {
     "data": {
      "image/png": "[encoded data removed]",
      "text/plain": [
       "<Figure size 1008x720 with 4 Axes>"
      ]
     },
     "metadata": {
      "needs_background": "light"
     },
     "output_type": "display_data"
    }
   ],
   "source": [
    "# Декомпозиция временного ряда\n",
    "decomposition = seasonal_decompose(data_hourly['num_orders'], model='additive', period=24*7)\n",
    "\n",
    "# Визуализация компонентов\n",
    "fig, ax = plt.subplots(4, 1, figsize=(14, 10))\n",
    "ax[0].plot(decomposition.observed, label='Observed')\n",
    "ax[0].set_title('Оригинальный временной ряд')\n",
    "ax[1].plot(decomposition.trend, label='Trend')\n",
    "ax[1].set_title('Тренд')\n",
    "ax[2].plot(decomposition.seasonal['2018-03-01':'2018-03-08'], label='Seasonal')\n",
    "ax[2].set_title('Сезонность (одна неделя)')\n",
    "ax[3].plot(decomposition.resid, label='Residuals')\n",
    "ax[3].set_title('Остатки')\n",
    "\n",
    "for a in ax:\n",
    "    a.legend()\n",
    "    a.grid()\n",
    "\n",
    "plt.suptitle('Декомпозиция временного ряда', fontsize=16)\n",
    "plt.tight_layout()\n",
    "plt.show()"
   ]
  },
  {
   "cell_type": "markdown",
   "id": "070ef764-1987-4328-a6ff-eed4eea195b5",
   "metadata": {},
   "source": [
    "## Выводы по декомпозиции временного ряда\n",
    "\n",
    "1. **Тренд:** Наблюдается явный рост количества заказов ближе к концу данных, что может быть связано с сезонными изменениями в осенне-зимний период.\n",
    "2. **Сезонность:** Более чётко видны регулярные колебания с периодом в неделю, что соответствует циклическим изменениям в повседневной жизни людей, таким как увеличение спроса в будние дни и спад в выходные.\n",
    "3. **Шум:** Остаточные колебания (residual) представляют случайные изменения, которые не могут быть объяснены трендом или сезонностью. Большая часть шума остаётся на одном уровне, хотя иногда встречаются выбросы.\n",
    "\n",
    "Декомпозиция позволила выделить основные компоненты временного ряда, что поможет лучше понять структуру данных и использовать их для построения прогностической модели.\n"
   ]
  },
  {
   "cell_type": "code",
   "execution_count": 14,
   "id": "a808f6e6-ec16-43d9-867b-ee49269aeb47",
   "metadata": {},
   "outputs": [
    {
     "data": {
      "text/html": [
       "<div>\n",
       "<style scoped>\n",
       "    .dataframe tbody tr th:only-of-type {\n",
       "        vertical-align: middle;\n",
       "    }\n",
       "\n",
       "    .dataframe tbody tr th {\n",
       "        vertical-align: top;\n",
       "    }\n",
       "\n",
       "    .dataframe thead th {\n",
       "        text-align: right;\n",
       "    }\n",
       "</style>\n",
       "<table border=\"1\" class=\"dataframe\">\n",
       "  <thead>\n",
       "    <tr style=\"text-align: right;\">\n",
       "      <th></th>\n",
       "      <th>num_orders</th>\n",
       "      <th>hour</th>\n",
       "      <th>day_of_week</th>\n",
       "      <th>lag_1</th>\n",
       "      <th>lag_2</th>\n",
       "      <th>lag_3</th>\n",
       "      <th>lag_4</th>\n",
       "      <th>lag_5</th>\n",
       "      <th>lag_6</th>\n",
       "      <th>lag_7</th>\n",
       "      <th>...</th>\n",
       "      <th>lag_18</th>\n",
       "      <th>lag_19</th>\n",
       "      <th>lag_20</th>\n",
       "      <th>lag_21</th>\n",
       "      <th>lag_22</th>\n",
       "      <th>lag_23</th>\n",
       "      <th>lag_24</th>\n",
       "      <th>lag_168</th>\n",
       "      <th>rolling_mean_24</th>\n",
       "      <th>rolling_mean_168</th>\n",
       "    </tr>\n",
       "    <tr>\n",
       "      <th>datetime</th>\n",
       "      <th></th>\n",
       "      <th></th>\n",
       "      <th></th>\n",
       "      <th></th>\n",
       "      <th></th>\n",
       "      <th></th>\n",
       "      <th></th>\n",
       "      <th></th>\n",
       "      <th></th>\n",
       "      <th></th>\n",
       "      <th></th>\n",
       "      <th></th>\n",
       "      <th></th>\n",
       "      <th></th>\n",
       "      <th></th>\n",
       "      <th></th>\n",
       "      <th></th>\n",
       "      <th></th>\n",
       "      <th></th>\n",
       "      <th></th>\n",
       "      <th></th>\n",
       "    </tr>\n",
       "  </thead>\n",
       "  <tbody>\n",
       "    <tr>\n",
       "      <th>2018-03-08 00:00:00</th>\n",
       "      <td>143</td>\n",
       "      <td>0</td>\n",
       "      <td>3</td>\n",
       "      <td>94.0</td>\n",
       "      <td>127.0</td>\n",
       "      <td>108.0</td>\n",
       "      <td>76.0</td>\n",
       "      <td>50.0</td>\n",
       "      <td>99.0</td>\n",
       "      <td>48.0</td>\n",
       "      <td>...</td>\n",
       "      <td>19.0</td>\n",
       "      <td>10.0</td>\n",
       "      <td>73.0</td>\n",
       "      <td>66.0</td>\n",
       "      <td>24.0</td>\n",
       "      <td>121.0</td>\n",
       "      <td>100.0</td>\n",
       "      <td>124.0</td>\n",
       "      <td>60.041667</td>\n",
       "      <td>54.226190</td>\n",
       "    </tr>\n",
       "    <tr>\n",
       "      <th>2018-03-08 01:00:00</th>\n",
       "      <td>78</td>\n",
       "      <td>1</td>\n",
       "      <td>3</td>\n",
       "      <td>143.0</td>\n",
       "      <td>94.0</td>\n",
       "      <td>127.0</td>\n",
       "      <td>108.0</td>\n",
       "      <td>76.0</td>\n",
       "      <td>50.0</td>\n",
       "      <td>99.0</td>\n",
       "      <td>...</td>\n",
       "      <td>17.0</td>\n",
       "      <td>19.0</td>\n",
       "      <td>10.0</td>\n",
       "      <td>73.0</td>\n",
       "      <td>66.0</td>\n",
       "      <td>24.0</td>\n",
       "      <td>121.0</td>\n",
       "      <td>85.0</td>\n",
       "      <td>61.833333</td>\n",
       "      <td>54.339286</td>\n",
       "    </tr>\n",
       "    <tr>\n",
       "      <th>2018-03-08 02:00:00</th>\n",
       "      <td>65</td>\n",
       "      <td>2</td>\n",
       "      <td>3</td>\n",
       "      <td>78.0</td>\n",
       "      <td>143.0</td>\n",
       "      <td>94.0</td>\n",
       "      <td>127.0</td>\n",
       "      <td>108.0</td>\n",
       "      <td>76.0</td>\n",
       "      <td>50.0</td>\n",
       "      <td>...</td>\n",
       "      <td>38.0</td>\n",
       "      <td>17.0</td>\n",
       "      <td>19.0</td>\n",
       "      <td>10.0</td>\n",
       "      <td>73.0</td>\n",
       "      <td>66.0</td>\n",
       "      <td>24.0</td>\n",
       "      <td>71.0</td>\n",
       "      <td>60.041667</td>\n",
       "      <td>54.297619</td>\n",
       "    </tr>\n",
       "    <tr>\n",
       "      <th>2018-03-08 03:00:00</th>\n",
       "      <td>68</td>\n",
       "      <td>3</td>\n",
       "      <td>3</td>\n",
       "      <td>65.0</td>\n",
       "      <td>78.0</td>\n",
       "      <td>143.0</td>\n",
       "      <td>94.0</td>\n",
       "      <td>127.0</td>\n",
       "      <td>108.0</td>\n",
       "      <td>76.0</td>\n",
       "      <td>...</td>\n",
       "      <td>50.0</td>\n",
       "      <td>38.0</td>\n",
       "      <td>17.0</td>\n",
       "      <td>19.0</td>\n",
       "      <td>10.0</td>\n",
       "      <td>73.0</td>\n",
       "      <td>66.0</td>\n",
       "      <td>66.0</td>\n",
       "      <td>61.750000</td>\n",
       "      <td>54.261905</td>\n",
       "    </tr>\n",
       "    <tr>\n",
       "      <th>2018-03-08 04:00:00</th>\n",
       "      <td>60</td>\n",
       "      <td>4</td>\n",
       "      <td>3</td>\n",
       "      <td>68.0</td>\n",
       "      <td>65.0</td>\n",
       "      <td>78.0</td>\n",
       "      <td>143.0</td>\n",
       "      <td>94.0</td>\n",
       "      <td>127.0</td>\n",
       "      <td>108.0</td>\n",
       "      <td>...</td>\n",
       "      <td>34.0</td>\n",
       "      <td>50.0</td>\n",
       "      <td>38.0</td>\n",
       "      <td>17.0</td>\n",
       "      <td>19.0</td>\n",
       "      <td>10.0</td>\n",
       "      <td>73.0</td>\n",
       "      <td>43.0</td>\n",
       "      <td>61.833333</td>\n",
       "      <td>54.273810</td>\n",
       "    </tr>\n",
       "  </tbody>\n",
       "</table>\n",
       "<p>5 rows × 30 columns</p>\n",
       "</div>"
      ],
      "text/plain": [
       "                     num_orders  hour  day_of_week  lag_1  lag_2  lag_3  \\\n",
       "datetime                                                                  \n",
       "2018-03-08 00:00:00         143     0            3   94.0  127.0  108.0   \n",
       "2018-03-08 01:00:00          78     1            3  143.0   94.0  127.0   \n",
       "2018-03-08 02:00:00          65     2            3   78.0  143.0   94.0   \n",
       "2018-03-08 03:00:00          68     3            3   65.0   78.0  143.0   \n",
       "2018-03-08 04:00:00          60     4            3   68.0   65.0   78.0   \n",
       "\n",
       "                     lag_4  lag_5  lag_6  lag_7  ...  lag_18  lag_19  lag_20  \\\n",
       "datetime                                         ...                           \n",
       "2018-03-08 00:00:00   76.0   50.0   99.0   48.0  ...    19.0    10.0    73.0   \n",
       "2018-03-08 01:00:00  108.0   76.0   50.0   99.0  ...    17.0    19.0    10.0   \n",
       "2018-03-08 02:00:00  127.0  108.0   76.0   50.0  ...    38.0    17.0    19.0   \n",
       "2018-03-08 03:00:00   94.0  127.0  108.0   76.0  ...    50.0    38.0    17.0   \n",
       "2018-03-08 04:00:00  143.0   94.0  127.0  108.0  ...    34.0    50.0    38.0   \n",
       "\n",
       "                     lag_21  lag_22  lag_23  lag_24  lag_168  rolling_mean_24  \\\n",
       "datetime                                                                        \n",
       "2018-03-08 00:00:00    66.0    24.0   121.0   100.0    124.0        60.041667   \n",
       "2018-03-08 01:00:00    73.0    66.0    24.0   121.0     85.0        61.833333   \n",
       "2018-03-08 02:00:00    10.0    73.0    66.0    24.0     71.0        60.041667   \n",
       "2018-03-08 03:00:00    19.0    10.0    73.0    66.0     66.0        61.750000   \n",
       "2018-03-08 04:00:00    17.0    19.0    10.0    73.0     43.0        61.833333   \n",
       "\n",
       "                     rolling_mean_168  \n",
       "datetime                               \n",
       "2018-03-08 00:00:00         54.226190  \n",
       "2018-03-08 01:00:00         54.339286  \n",
       "2018-03-08 02:00:00         54.297619  \n",
       "2018-03-08 03:00:00         54.261905  \n",
       "2018-03-08 04:00:00         54.273810  \n",
       "\n",
       "[5 rows x 30 columns]"
      ]
     },
     "metadata": {},
     "output_type": "display_data"
    }
   ],
   "source": [
    "# Добавим временные признаки: час и день недели\n",
    "data_hourly['hour'] = data_hourly.index.hour\n",
    "data_hourly['day_of_week'] = data_hourly.index.dayofweek\n",
    "\n",
    "# Создадим лаги от 1 до 24 часов (сутки) и на 168 часов (неделя)\n",
    "for lag in range(1, 25):\n",
    "    data_hourly[f'lag_{lag}'] = data_hourly['num_orders'].shift(lag)\n",
    "data_hourly['lag_168'] = data_hourly['num_orders'].shift(168)\n",
    "\n",
    "# Создадим скользящее среднее за сутки (24 часа) и неделю (168 часов), учитывая предыдущие значения\n",
    "data_hourly['rolling_mean_24'] = data_hourly['num_orders'].shift(1).rolling(window=24).mean()\n",
    "data_hourly['rolling_mean_168'] = data_hourly['num_orders'].shift(1).rolling(window=168).mean()\n",
    "\n",
    "# Удалим строки с пропусками, которые появились из-за лагов и скользящего среднего\n",
    "data_hourly = data_hourly.dropna()\n",
    "\n",
    "# Проверим, что получилось\n",
    "display(data_hourly.head())\n"
   ]
  },
  {
   "cell_type": "code",
   "execution_count": 15,
   "id": "624b3cdc-882b-4789-90d6-083e29e7d6ff",
   "metadata": {},
   "outputs": [
    {
     "name": "stdout",
     "output_type": "stream",
     "text": [
      "Размер тренировочной выборки: 3823\n",
      "Размер тестовой выборки: 425\n"
     ]
    }
   ],
   "source": [
    "# Определим границу для тестовой выборки (последние 10% данных)\n",
    "split_index = int(len(data_hourly) * 0.9)\n",
    "\n",
    "# Тренировочная выборка\n",
    "train = data_hourly[:split_index]\n",
    "\n",
    "# Тестовая выборка\n",
    "test = data_hourly[split_index:]\n",
    "\n",
    "# Проверим размеры выборок\n",
    "print(f'Размер тренировочной выборки: {len(train)}')\n",
    "print(f'Размер тестовой выборки: {len(test)}')"
   ]
  },
  {
   "cell_type": "code",
   "execution_count": 16,
   "id": "018bf892-11bd-43de-a78b-6933abf8daca",
   "metadata": {},
   "outputs": [],
   "source": [
    "# Определим кросс-валидацию для временных рядов\n",
    "tscv = TimeSeriesSplit(n_splits=5)"
   ]
  },
  {
   "cell_type": "code",
   "execution_count": 17,
   "id": "990cd8a4",
   "metadata": {},
   "outputs": [],
   "source": [
    "# Признаки для OHE\n",
    "categorical_features = ['hour', 'day_of_week']"
   ]
  },
  {
   "cell_type": "code",
   "execution_count": 18,
   "id": "bcabf074",
   "metadata": {},
   "outputs": [],
   "source": [
    "# Разные трансформеры для линейных моделей и моделей деревьев\n",
    "preprocessor_linear = ColumnTransformer(\n",
    "    transformers=[\n",
    "        ('ohe', OneHotEncoder(), categorical_features)\n",
    "    ],\n",
    "    remainder='passthrough'  # Прочие признаки оставить как есть\n",
    ")\n",
    "\n",
    "preprocessor_tree = 'passthrough'  # Для моделей деревьев оставим все как есть"
   ]
  },
  {
   "cell_type": "code",
   "execution_count": 19,
   "id": "dc28ad8d-79cc-4ac8-b075-9c82cade4af2",
   "metadata": {},
   "outputs": [],
   "source": [
    "# Пайплайн для линейных моделей\n",
    "pipeline_linear = Pipeline([\n",
    "    ('preprocessor', preprocessor_linear),\n",
    "    ('model', LinearRegression())\n",
    "])\n",
    "\n",
    "# Пайплайн для моделей деревьев\n",
    "pipeline_tree = Pipeline([\n",
    "    ('preprocessor', preprocessor_tree),\n",
    "    ('model', RandomForestRegressor())\n",
    "])"
   ]
  },
  {
   "cell_type": "code",
   "execution_count": 20,
   "id": "8749e48d-bce2-4e97-8309-38b328adad54",
   "metadata": {},
   "outputs": [],
   "source": [
    "# Обновим сетку параметров, чтобы учитывать параметры для каждой модели отдельно\n",
    "param_grid = [\n",
    "    {\n",
    "        'model': [RandomForestRegressor(), LGBMRegressor(), XGBRegressor()],\n",
    "        'model__n_estimators': [50, 100, 200],\n",
    "        'model__max_depth': [None, 10, 20]\n",
    "    },\n",
    "    {\n",
    "        'model': [LinearRegression()],\n",
    "        'model__fit_intercept': [True, False],\n",
    "        'preprocessor': [preprocessor_linear]\n",
    "    }\n",
    "]"
   ]
  },
  {
   "cell_type": "code",
   "execution_count": 21,
   "id": "4af286e0-f827-4a26-8c1b-968869349200",
   "metadata": {},
   "outputs": [],
   "source": [
    "# Настроим RandomizedSearchCV с использованием TimeSeriesSplit\n",
    "random_search = RandomizedSearchCV(\n",
    "    pipeline_tree, \n",
    "    param_distributions=param_grid, \n",
    "    n_iter=10, \n",
    "    cv=tscv,  # Передаем TimeSeriesSplit\n",
    "    scoring='neg_root_mean_squared_error', \n",
    "    n_jobs=-1\n",
    ")"
   ]
  },
  {
   "cell_type": "code",
   "execution_count": 22,
   "id": "dc2884f9-8097-4d84-90cf-4bd0fad09f40",
   "metadata": {},
   "outputs": [
    {
     "name": "stdout",
     "output_type": "stream",
     "text": [
      "CPU times: user 27min 56s, sys: 19.8 s, total: 28min 15s\n",
      "Wall time: 33min 42s\n"
     ]
    },
    {
     "name": "stderr",
     "output_type": "stream",
     "text": [
      "/opt/conda/lib/python3.9/site-packages/sklearn/compose/_column_transformer.py:1623: FutureWarning: \n",
      "The format of the columns of the 'remainder' transformer in ColumnTransformer.transformers_ will change in version 1.7 to match the format of the other transformers.\n",
      "At the moment the remainder columns are stored as indices (of type int). With the same ColumnTransformer configuration, in the future they will be stored as column names (of type str).\n",
      "To use the new behavior now and suppress this warning, use ColumnTransformer(force_int_remainder_cols=False).\n",
      "\n",
      "  warnings.warn(\n"
     ]
    },
    {
     "data": {
      "text/html": [
       "<style>#sk-container-id-1 {\n",
       "  /* Definition of color scheme common for light and dark mode */\n",
       "  --sklearn-color-text: black;\n",
       "  --sklearn-color-line: gray;\n",
       "  /* Definition of color scheme for unfitted estimators */\n",
       "  --sklearn-color-unfitted-level-0: #fff5e6;\n",
       "  --sklearn-color-unfitted-level-1: #f6e4d2;\n",
       "  --sklearn-color-unfitted-level-2: #ffe0b3;\n",
       "  --sklearn-color-unfitted-level-3: chocolate;\n",
       "  /* Definition of color scheme for fitted estimators */\n",
       "  --sklearn-color-fitted-level-0: #f0f8ff;\n",
       "  --sklearn-color-fitted-level-1: #d4ebff;\n",
       "  --sklearn-color-fitted-level-2: #b3dbfd;\n",
       "  --sklearn-color-fitted-level-3: cornflowerblue;\n",
       "\n",
       "  /* Specific color for light theme */\n",
       "  --sklearn-color-text-on-default-background: var(--sg-text-color, var(--theme-code-foreground, var(--jp-content-font-color1, black)));\n",
       "  --sklearn-color-background: var(--sg-background-color, var(--theme-background, var(--jp-layout-color0, white)));\n",
       "  --sklearn-color-border-box: var(--sg-text-color, var(--theme-code-foreground, var(--jp-content-font-color1, black)));\n",
       "  --sklearn-color-icon: #696969;\n",
       "\n",
       "  @media (prefers-color-scheme: dark) {\n",
       "    /* Redefinition of color scheme for dark theme */\n",
       "    --sklearn-color-text-on-default-background: var(--sg-text-color, var(--theme-code-foreground, var(--jp-content-font-color1, white)));\n",
       "    --sklearn-color-background: var(--sg-background-color, var(--theme-background, var(--jp-layout-color0, #111)));\n",
       "    --sklearn-color-border-box: var(--sg-text-color, var(--theme-code-foreground, var(--jp-content-font-color1, white)));\n",
       "    --sklearn-color-icon: #878787;\n",
       "  }\n",
       "}\n",
       "\n",
       "#sk-container-id-1 {\n",
       "  color: var(--sklearn-color-text);\n",
       "}\n",
       "\n",
       "#sk-container-id-1 pre {\n",
       "  padding: 0;\n",
       "}\n",
       "\n",
       "#sk-container-id-1 input.sk-hidden--visually {\n",
       "  border: 0;\n",
       "  clip: rect(1px 1px 1px 1px);\n",
       "  clip: rect(1px, 1px, 1px, 1px);\n",
       "  height: 1px;\n",
       "  margin: -1px;\n",
       "  overflow: hidden;\n",
       "  padding: 0;\n",
       "  position: absolute;\n",
       "  width: 1px;\n",
       "}\n",
       "\n",
       "#sk-container-id-1 div.sk-dashed-wrapped {\n",
       "  border: 1px dashed var(--sklearn-color-line);\n",
       "  margin: 0 0.4em 0.5em 0.4em;\n",
       "  box-sizing: border-box;\n",
       "  padding-bottom: 0.4em;\n",
       "  background-color: var(--sklearn-color-background);\n",
       "}\n",
       "\n",
       "#sk-container-id-1 div.sk-container {\n",
       "  /* jupyter's `normalize.less` sets `[hidden] { display: none; }`\n",
       "     but bootstrap.min.css set `[hidden] { display: none !important; }`\n",
       "     so we also need the `!important` here to be able to override the\n",
       "     default hidden behavior on the sphinx rendered scikit-learn.org.\n",
       "     See: https://github.com/scikit-learn/scikit-learn/issues/21755 */\n",
       "  display: inline-block !important;\n",
       "  position: relative;\n",
       "}\n",
       "\n",
       "#sk-container-id-1 div.sk-text-repr-fallback {\n",
       "  display: none;\n",
       "}\n",
       "\n",
       "div.sk-parallel-item,\n",
       "div.sk-serial,\n",
       "div.sk-item {\n",
       "  /* draw centered vertical line to link estimators */\n",
       "  background-image: linear-gradient(var(--sklearn-color-text-on-default-background), var(--sklearn-color-text-on-default-background));\n",
       "  background-size: 2px 100%;\n",
       "  background-repeat: no-repeat;\n",
       "  background-position: center center;\n",
       "}\n",
       "\n",
       "/* Parallel-specific style estimator block */\n",
       "\n",
       "#sk-container-id-1 div.sk-parallel-item::after {\n",
       "  content: \"\";\n",
       "  width: 100%;\n",
       "  border-bottom: 2px solid var(--sklearn-color-text-on-default-background);\n",
       "  flex-grow: 1;\n",
       "}\n",
       "\n",
       "#sk-container-id-1 div.sk-parallel {\n",
       "  display: flex;\n",
       "  align-items: stretch;\n",
       "  justify-content: center;\n",
       "  background-color: var(--sklearn-color-background);\n",
       "  position: relative;\n",
       "}\n",
       "\n",
       "#sk-container-id-1 div.sk-parallel-item {\n",
       "  display: flex;\n",
       "  flex-direction: column;\n",
       "}\n",
       "\n",
       "#sk-container-id-1 div.sk-parallel-item:first-child::after {\n",
       "  align-self: flex-end;\n",
       "  width: 50%;\n",
       "}\n",
       "\n",
       "#sk-container-id-1 div.sk-parallel-item:last-child::after {\n",
       "  align-self: flex-start;\n",
       "  width: 50%;\n",
       "}\n",
       "\n",
       "#sk-container-id-1 div.sk-parallel-item:only-child::after {\n",
       "  width: 0;\n",
       "}\n",
       "\n",
       "/* Serial-specific style estimator block */\n",
       "\n",
       "#sk-container-id-1 div.sk-serial {\n",
       "  display: flex;\n",
       "  flex-direction: column;\n",
       "  align-items: center;\n",
       "  background-color: var(--sklearn-color-background);\n",
       "  padding-right: 1em;\n",
       "  padding-left: 1em;\n",
       "}\n",
       "\n",
       "\n",
       "/* Toggleable style: style used for estimator/Pipeline/ColumnTransformer box that is\n",
       "clickable and can be expanded/collapsed.\n",
       "- Pipeline and ColumnTransformer use this feature and define the default style\n",
       "- Estimators will overwrite some part of the style using the `sk-estimator` class\n",
       "*/\n",
       "\n",
       "/* Pipeline and ColumnTransformer style (default) */\n",
       "\n",
       "#sk-container-id-1 div.sk-toggleable {\n",
       "  /* Default theme specific background. It is overwritten whether we have a\n",
       "  specific estimator or a Pipeline/ColumnTransformer */\n",
       "  background-color: var(--sklearn-color-background);\n",
       "}\n",
       "\n",
       "/* Toggleable label */\n",
       "#sk-container-id-1 label.sk-toggleable__label {\n",
       "  cursor: pointer;\n",
       "  display: block;\n",
       "  width: 100%;\n",
       "  margin-bottom: 0;\n",
       "  padding: 0.5em;\n",
       "  box-sizing: border-box;\n",
       "  text-align: center;\n",
       "}\n",
       "\n",
       "#sk-container-id-1 label.sk-toggleable__label-arrow:before {\n",
       "  /* Arrow on the left of the label */\n",
       "  content: \"▸\";\n",
       "  float: left;\n",
       "  margin-right: 0.25em;\n",
       "  color: var(--sklearn-color-icon);\n",
       "}\n",
       "\n",
       "#sk-container-id-1 label.sk-toggleable__label-arrow:hover:before {\n",
       "  color: var(--sklearn-color-text);\n",
       "}\n",
       "\n",
       "/* Toggleable content - dropdown */\n",
       "\n",
       "#sk-container-id-1 div.sk-toggleable__content {\n",
       "  max-height: 0;\n",
       "  max-width: 0;\n",
       "  overflow: hidden;\n",
       "  text-align: left;\n",
       "  /* unfitted */\n",
       "  background-color: var(--sklearn-color-unfitted-level-0);\n",
       "}\n",
       "\n",
       "#sk-container-id-1 div.sk-toggleable__content.fitted {\n",
       "  /* fitted */\n",
       "  background-color: var(--sklearn-color-fitted-level-0);\n",
       "}\n",
       "\n",
       "#sk-container-id-1 div.sk-toggleable__content pre {\n",
       "  margin: 0.2em;\n",
       "  border-radius: 0.25em;\n",
       "  color: var(--sklearn-color-text);\n",
       "  /* unfitted */\n",
       "  background-color: var(--sklearn-color-unfitted-level-0);\n",
       "}\n",
       "\n",
       "#sk-container-id-1 div.sk-toggleable__content.fitted pre {\n",
       "  /* unfitted */\n",
       "  background-color: var(--sklearn-color-fitted-level-0);\n",
       "}\n",
       "\n",
       "#sk-container-id-1 input.sk-toggleable__control:checked~div.sk-toggleable__content {\n",
       "  /* Expand drop-down */\n",
       "  max-height: 200px;\n",
       "  max-width: 100%;\n",
       "  overflow: auto;\n",
       "}\n",
       "\n",
       "#sk-container-id-1 input.sk-toggleable__control:checked~label.sk-toggleable__label-arrow:before {\n",
       "  content: \"▾\";\n",
       "}\n",
       "\n",
       "/* Pipeline/ColumnTransformer-specific style */\n",
       "\n",
       "#sk-container-id-1 div.sk-label input.sk-toggleable__control:checked~label.sk-toggleable__label {\n",
       "  color: var(--sklearn-color-text);\n",
       "  background-color: var(--sklearn-color-unfitted-level-2);\n",
       "}\n",
       "\n",
       "#sk-container-id-1 div.sk-label.fitted input.sk-toggleable__control:checked~label.sk-toggleable__label {\n",
       "  background-color: var(--sklearn-color-fitted-level-2);\n",
       "}\n",
       "\n",
       "/* Estimator-specific style */\n",
       "\n",
       "/* Colorize estimator box */\n",
       "#sk-container-id-1 div.sk-estimator input.sk-toggleable__control:checked~label.sk-toggleable__label {\n",
       "  /* unfitted */\n",
       "  background-color: var(--sklearn-color-unfitted-level-2);\n",
       "}\n",
       "\n",
       "#sk-container-id-1 div.sk-estimator.fitted input.sk-toggleable__control:checked~label.sk-toggleable__label {\n",
       "  /* fitted */\n",
       "  background-color: var(--sklearn-color-fitted-level-2);\n",
       "}\n",
       "\n",
       "#sk-container-id-1 div.sk-label label.sk-toggleable__label,\n",
       "#sk-container-id-1 div.sk-label label {\n",
       "  /* The background is the default theme color */\n",
       "  color: var(--sklearn-color-text-on-default-background);\n",
       "}\n",
       "\n",
       "/* On hover, darken the color of the background */\n",
       "#sk-container-id-1 div.sk-label:hover label.sk-toggleable__label {\n",
       "  color: var(--sklearn-color-text);\n",
       "  background-color: var(--sklearn-color-unfitted-level-2);\n",
       "}\n",
       "\n",
       "/* Label box, darken color on hover, fitted */\n",
       "#sk-container-id-1 div.sk-label.fitted:hover label.sk-toggleable__label.fitted {\n",
       "  color: var(--sklearn-color-text);\n",
       "  background-color: var(--sklearn-color-fitted-level-2);\n",
       "}\n",
       "\n",
       "/* Estimator label */\n",
       "\n",
       "#sk-container-id-1 div.sk-label label {\n",
       "  font-family: monospace;\n",
       "  font-weight: bold;\n",
       "  display: inline-block;\n",
       "  line-height: 1.2em;\n",
       "}\n",
       "\n",
       "#sk-container-id-1 div.sk-label-container {\n",
       "  text-align: center;\n",
       "}\n",
       "\n",
       "/* Estimator-specific */\n",
       "#sk-container-id-1 div.sk-estimator {\n",
       "  font-family: monospace;\n",
       "  border: 1px dotted var(--sklearn-color-border-box);\n",
       "  border-radius: 0.25em;\n",
       "  box-sizing: border-box;\n",
       "  margin-bottom: 0.5em;\n",
       "  /* unfitted */\n",
       "  background-color: var(--sklearn-color-unfitted-level-0);\n",
       "}\n",
       "\n",
       "#sk-container-id-1 div.sk-estimator.fitted {\n",
       "  /* fitted */\n",
       "  background-color: var(--sklearn-color-fitted-level-0);\n",
       "}\n",
       "\n",
       "/* on hover */\n",
       "#sk-container-id-1 div.sk-estimator:hover {\n",
       "  /* unfitted */\n",
       "  background-color: var(--sklearn-color-unfitted-level-2);\n",
       "}\n",
       "\n",
       "#sk-container-id-1 div.sk-estimator.fitted:hover {\n",
       "  /* fitted */\n",
       "  background-color: var(--sklearn-color-fitted-level-2);\n",
       "}\n",
       "\n",
       "/* Specification for estimator info (e.g. \"i\" and \"?\") */\n",
       "\n",
       "/* Common style for \"i\" and \"?\" */\n",
       "\n",
       ".sk-estimator-doc-link,\n",
       "a:link.sk-estimator-doc-link,\n",
       "a:visited.sk-estimator-doc-link {\n",
       "  float: right;\n",
       "  font-size: smaller;\n",
       "  line-height: 1em;\n",
       "  font-family: monospace;\n",
       "  background-color: var(--sklearn-color-background);\n",
       "  border-radius: 1em;\n",
       "  height: 1em;\n",
       "  width: 1em;\n",
       "  text-decoration: none !important;\n",
       "  margin-left: 1ex;\n",
       "  /* unfitted */\n",
       "  border: var(--sklearn-color-unfitted-level-1) 1pt solid;\n",
       "  color: var(--sklearn-color-unfitted-level-1);\n",
       "}\n",
       "\n",
       ".sk-estimator-doc-link.fitted,\n",
       "a:link.sk-estimator-doc-link.fitted,\n",
       "a:visited.sk-estimator-doc-link.fitted {\n",
       "  /* fitted */\n",
       "  border: var(--sklearn-color-fitted-level-1) 1pt solid;\n",
       "  color: var(--sklearn-color-fitted-level-1);\n",
       "}\n",
       "\n",
       "/* On hover */\n",
       "div.sk-estimator:hover .sk-estimator-doc-link:hover,\n",
       ".sk-estimator-doc-link:hover,\n",
       "div.sk-label-container:hover .sk-estimator-doc-link:hover,\n",
       ".sk-estimator-doc-link:hover {\n",
       "  /* unfitted */\n",
       "  background-color: var(--sklearn-color-unfitted-level-3);\n",
       "  color: var(--sklearn-color-background);\n",
       "  text-decoration: none;\n",
       "}\n",
       "\n",
       "div.sk-estimator.fitted:hover .sk-estimator-doc-link.fitted:hover,\n",
       ".sk-estimator-doc-link.fitted:hover,\n",
       "div.sk-label-container:hover .sk-estimator-doc-link.fitted:hover,\n",
       ".sk-estimator-doc-link.fitted:hover {\n",
       "  /* fitted */\n",
       "  background-color: var(--sklearn-color-fitted-level-3);\n",
       "  color: var(--sklearn-color-background);\n",
       "  text-decoration: none;\n",
       "}\n",
       "\n",
       "/* Span, style for the box shown on hovering the info icon */\n",
       ".sk-estimator-doc-link span {\n",
       "  display: none;\n",
       "  z-index: 9999;\n",
       "  position: relative;\n",
       "  font-weight: normal;\n",
       "  right: .2ex;\n",
       "  padding: .5ex;\n",
       "  margin: .5ex;\n",
       "  width: min-content;\n",
       "  min-width: 20ex;\n",
       "  max-width: 50ex;\n",
       "  color: var(--sklearn-color-text);\n",
       "  box-shadow: 2pt 2pt 4pt #999;\n",
       "  /* unfitted */\n",
       "  background: var(--sklearn-color-unfitted-level-0);\n",
       "  border: .5pt solid var(--sklearn-color-unfitted-level-3);\n",
       "}\n",
       "\n",
       ".sk-estimator-doc-link.fitted span {\n",
       "  /* fitted */\n",
       "  background: var(--sklearn-color-fitted-level-0);\n",
       "  border: var(--sklearn-color-fitted-level-3);\n",
       "}\n",
       "\n",
       ".sk-estimator-doc-link:hover span {\n",
       "  display: block;\n",
       "}\n",
       "\n",
       "/* \"?\"-specific style due to the `<a>` HTML tag */\n",
       "\n",
       "#sk-container-id-1 a.estimator_doc_link {\n",
       "  float: right;\n",
       "  font-size: 1rem;\n",
       "  line-height: 1em;\n",
       "  font-family: monospace;\n",
       "  background-color: var(--sklearn-color-background);\n",
       "  border-radius: 1rem;\n",
       "  height: 1rem;\n",
       "  width: 1rem;\n",
       "  text-decoration: none;\n",
       "  /* unfitted */\n",
       "  color: var(--sklearn-color-unfitted-level-1);\n",
       "  border: var(--sklearn-color-unfitted-level-1) 1pt solid;\n",
       "}\n",
       "\n",
       "#sk-container-id-1 a.estimator_doc_link.fitted {\n",
       "  /* fitted */\n",
       "  border: var(--sklearn-color-fitted-level-1) 1pt solid;\n",
       "  color: var(--sklearn-color-fitted-level-1);\n",
       "}\n",
       "\n",
       "/* On hover */\n",
       "#sk-container-id-1 a.estimator_doc_link:hover {\n",
       "  /* unfitted */\n",
       "  background-color: var(--sklearn-color-unfitted-level-3);\n",
       "  color: var(--sklearn-color-background);\n",
       "  text-decoration: none;\n",
       "}\n",
       "\n",
       "#sk-container-id-1 a.estimator_doc_link.fitted:hover {\n",
       "  /* fitted */\n",
       "  background-color: var(--sklearn-color-fitted-level-3);\n",
       "}\n",
       "</style><div id=\"sk-container-id-1\" class=\"sk-top-container\"><div class=\"sk-text-repr-fallback\"><pre>RandomizedSearchCV(cv=TimeSeriesSplit(gap=0, max_train_size=None, n_splits=5, test_size=None),\n",
       "                   estimator=Pipeline(steps=[(&#x27;preprocessor&#x27;, &#x27;passthrough&#x27;),\n",
       "                                             (&#x27;model&#x27;,\n",
       "                                              RandomForestRegressor())]),\n",
       "                   n_jobs=-1,\n",
       "                   param_distributions=[{&#x27;model&#x27;: [RandomForestRegressor(),\n",
       "                                                   LGBMRegressor(),\n",
       "                                                   XGBRegressor(base_score=None,\n",
       "                                                                booster=None,\n",
       "                                                                colsample_bylevel=None,\n",
       "                                                                colsample_bynode=Non...\n",
       "                                                                tree_method=None,\n",
       "                                                                validate_parameters=None,\n",
       "                                                                verbosity=None)],\n",
       "                                         &#x27;model__max_depth&#x27;: [None, 10, 20],\n",
       "                                         &#x27;model__n_estimators&#x27;: [50, 100, 200]},\n",
       "                                        {&#x27;model&#x27;: [LinearRegression()],\n",
       "                                         &#x27;model__fit_intercept&#x27;: [True, False],\n",
       "                                         &#x27;preprocessor&#x27;: [ColumnTransformer(remainder=&#x27;passthrough&#x27;,\n",
       "                                                                            transformers=[(&#x27;ohe&#x27;,\n",
       "                                                                                           OneHotEncoder(),\n",
       "                                                                                           [&#x27;hour&#x27;,\n",
       "                                                                                            &#x27;day_of_week&#x27;])])]}],\n",
       "                   scoring=&#x27;neg_root_mean_squared_error&#x27;)</pre><b>In a Jupyter environment, please rerun this cell to show the HTML representation or trust the notebook. <br />On GitHub, the HTML representation is unable to render, please try loading this page with nbviewer.org.</b></div><div class=\"sk-container\" hidden><div class=\"sk-item sk-dashed-wrapped\"><div class=\"sk-label-container\"><div class=\"sk-label fitted sk-toggleable\"><input class=\"sk-toggleable__control sk-hidden--visually\" id=\"sk-estimator-id-1\" type=\"checkbox\" ><label for=\"sk-estimator-id-1\" class=\"sk-toggleable__label fitted sk-toggleable__label-arrow fitted\">&nbsp;&nbsp;RandomizedSearchCV<a class=\"sk-estimator-doc-link fitted\" rel=\"noreferrer\" target=\"_blank\" href=\"https://scikit-learn.org/1.5/modules/generated/sklearn.model_selection.RandomizedSearchCV.html\">?<span>Documentation for RandomizedSearchCV</span></a><span class=\"sk-estimator-doc-link fitted\">i<span>Fitted</span></span></label><div class=\"sk-toggleable__content fitted\"><pre>RandomizedSearchCV(cv=TimeSeriesSplit(gap=0, max_train_size=None, n_splits=5, test_size=None),\n",
       "                   estimator=Pipeline(steps=[(&#x27;preprocessor&#x27;, &#x27;passthrough&#x27;),\n",
       "                                             (&#x27;model&#x27;,\n",
       "                                              RandomForestRegressor())]),\n",
       "                   n_jobs=-1,\n",
       "                   param_distributions=[{&#x27;model&#x27;: [RandomForestRegressor(),\n",
       "                                                   LGBMRegressor(),\n",
       "                                                   XGBRegressor(base_score=None,\n",
       "                                                                booster=None,\n",
       "                                                                colsample_bylevel=None,\n",
       "                                                                colsample_bynode=Non...\n",
       "                                                                tree_method=None,\n",
       "                                                                validate_parameters=None,\n",
       "                                                                verbosity=None)],\n",
       "                                         &#x27;model__max_depth&#x27;: [None, 10, 20],\n",
       "                                         &#x27;model__n_estimators&#x27;: [50, 100, 200]},\n",
       "                                        {&#x27;model&#x27;: [LinearRegression()],\n",
       "                                         &#x27;model__fit_intercept&#x27;: [True, False],\n",
       "                                         &#x27;preprocessor&#x27;: [ColumnTransformer(remainder=&#x27;passthrough&#x27;,\n",
       "                                                                            transformers=[(&#x27;ohe&#x27;,\n",
       "                                                                                           OneHotEncoder(),\n",
       "                                                                                           [&#x27;hour&#x27;,\n",
       "                                                                                            &#x27;day_of_week&#x27;])])]}],\n",
       "                   scoring=&#x27;neg_root_mean_squared_error&#x27;)</pre></div> </div></div><div class=\"sk-parallel\"><div class=\"sk-parallel-item\"><div class=\"sk-item\"><div class=\"sk-label-container\"><div class=\"sk-label fitted sk-toggleable\"><input class=\"sk-toggleable__control sk-hidden--visually\" id=\"sk-estimator-id-2\" type=\"checkbox\" ><label for=\"sk-estimator-id-2\" class=\"sk-toggleable__label fitted sk-toggleable__label-arrow fitted\">best_estimator_: Pipeline</label><div class=\"sk-toggleable__content fitted\"><pre>Pipeline(steps=[(&#x27;preprocessor&#x27;,\n",
       "                 ColumnTransformer(remainder=&#x27;passthrough&#x27;,\n",
       "                                   transformers=[(&#x27;ohe&#x27;, OneHotEncoder(),\n",
       "                                                  [&#x27;hour&#x27;, &#x27;day_of_week&#x27;])])),\n",
       "                (&#x27;model&#x27;, LinearRegression())])</pre></div> </div></div><div class=\"sk-serial\"><div class=\"sk-item\"><div class=\"sk-serial\"><div class=\"sk-item sk-dashed-wrapped\"><div class=\"sk-label-container\"><div class=\"sk-label fitted sk-toggleable\"><input class=\"sk-toggleable__control sk-hidden--visually\" id=\"sk-estimator-id-3\" type=\"checkbox\" ><label for=\"sk-estimator-id-3\" class=\"sk-toggleable__label fitted sk-toggleable__label-arrow fitted\">&nbsp;preprocessor: ColumnTransformer<a class=\"sk-estimator-doc-link fitted\" rel=\"noreferrer\" target=\"_blank\" href=\"https://scikit-learn.org/1.5/modules/generated/sklearn.compose.ColumnTransformer.html\">?<span>Documentation for preprocessor: ColumnTransformer</span></a></label><div class=\"sk-toggleable__content fitted\"><pre>ColumnTransformer(remainder=&#x27;passthrough&#x27;,\n",
       "                  transformers=[(&#x27;ohe&#x27;, OneHotEncoder(),\n",
       "                                 [&#x27;hour&#x27;, &#x27;day_of_week&#x27;])])</pre></div> </div></div><div class=\"sk-parallel\"><div class=\"sk-parallel-item\"><div class=\"sk-item\"><div class=\"sk-label-container\"><div class=\"sk-label fitted sk-toggleable\"><input class=\"sk-toggleable__control sk-hidden--visually\" id=\"sk-estimator-id-4\" type=\"checkbox\" ><label for=\"sk-estimator-id-4\" class=\"sk-toggleable__label fitted sk-toggleable__label-arrow fitted\">ohe</label><div class=\"sk-toggleable__content fitted\"><pre>[&#x27;hour&#x27;, &#x27;day_of_week&#x27;]</pre></div> </div></div><div class=\"sk-serial\"><div class=\"sk-item\"><div class=\"sk-estimator fitted sk-toggleable\"><input class=\"sk-toggleable__control sk-hidden--visually\" id=\"sk-estimator-id-5\" type=\"checkbox\" ><label for=\"sk-estimator-id-5\" class=\"sk-toggleable__label fitted sk-toggleable__label-arrow fitted\">&nbsp;OneHotEncoder<a class=\"sk-estimator-doc-link fitted\" rel=\"noreferrer\" target=\"_blank\" href=\"https://scikit-learn.org/1.5/modules/generated/sklearn.preprocessing.OneHotEncoder.html\">?<span>Documentation for OneHotEncoder</span></a></label><div class=\"sk-toggleable__content fitted\"><pre>OneHotEncoder()</pre></div> </div></div></div></div></div><div class=\"sk-parallel-item\"><div class=\"sk-item\"><div class=\"sk-label-container\"><div class=\"sk-label fitted sk-toggleable\"><input class=\"sk-toggleable__control sk-hidden--visually\" id=\"sk-estimator-id-6\" type=\"checkbox\" ><label for=\"sk-estimator-id-6\" class=\"sk-toggleable__label fitted sk-toggleable__label-arrow fitted\">remainder</label><div class=\"sk-toggleable__content fitted\"><pre>[&#x27;lag_1&#x27;, &#x27;lag_2&#x27;, &#x27;lag_3&#x27;, &#x27;lag_4&#x27;, &#x27;lag_5&#x27;, &#x27;lag_6&#x27;, &#x27;lag_7&#x27;, &#x27;lag_8&#x27;, &#x27;lag_9&#x27;, &#x27;lag_10&#x27;, &#x27;lag_11&#x27;, &#x27;lag_12&#x27;, &#x27;lag_13&#x27;, &#x27;lag_14&#x27;, &#x27;lag_15&#x27;, &#x27;lag_16&#x27;, &#x27;lag_17&#x27;, &#x27;lag_18&#x27;, &#x27;lag_19&#x27;, &#x27;lag_20&#x27;, &#x27;lag_21&#x27;, &#x27;lag_22&#x27;, &#x27;lag_23&#x27;, &#x27;lag_24&#x27;, &#x27;lag_168&#x27;, &#x27;rolling_mean_24&#x27;, &#x27;rolling_mean_168&#x27;]</pre></div> </div></div><div class=\"sk-serial\"><div class=\"sk-item\"><div class=\"sk-estimator fitted sk-toggleable\"><input class=\"sk-toggleable__control sk-hidden--visually\" id=\"sk-estimator-id-7\" type=\"checkbox\" ><label for=\"sk-estimator-id-7\" class=\"sk-toggleable__label fitted sk-toggleable__label-arrow fitted\">passthrough</label><div class=\"sk-toggleable__content fitted\"><pre>passthrough</pre></div> </div></div></div></div></div></div></div><div class=\"sk-item\"><div class=\"sk-estimator fitted sk-toggleable\"><input class=\"sk-toggleable__control sk-hidden--visually\" id=\"sk-estimator-id-8\" type=\"checkbox\" ><label for=\"sk-estimator-id-8\" class=\"sk-toggleable__label fitted sk-toggleable__label-arrow fitted\">&nbsp;LinearRegression<a class=\"sk-estimator-doc-link fitted\" rel=\"noreferrer\" target=\"_blank\" href=\"https://scikit-learn.org/1.5/modules/generated/sklearn.linear_model.LinearRegression.html\">?<span>Documentation for LinearRegression</span></a></label><div class=\"sk-toggleable__content fitted\"><pre>LinearRegression()</pre></div> </div></div></div></div></div></div></div></div></div></div></div>"
      ],
      "text/plain": [
       "RandomizedSearchCV(cv=TimeSeriesSplit(gap=0, max_train_size=None, n_splits=5, test_size=None),\n",
       "                   estimator=Pipeline(steps=[('preprocessor', 'passthrough'),\n",
       "                                             ('model',\n",
       "                                              RandomForestRegressor())]),\n",
       "                   n_jobs=-1,\n",
       "                   param_distributions=[{'model': [RandomForestRegressor(),\n",
       "                                                   LGBMRegressor(),\n",
       "                                                   XGBRegressor(base_score=None,\n",
       "                                                                booster=None,\n",
       "                                                                colsample_bylevel=None,\n",
       "                                                                colsample_bynode=Non...\n",
       "                                                                tree_method=None,\n",
       "                                                                validate_parameters=None,\n",
       "                                                                verbosity=None)],\n",
       "                                         'model__max_depth': [None, 10, 20],\n",
       "                                         'model__n_estimators': [50, 100, 200]},\n",
       "                                        {'model': [LinearRegression()],\n",
       "                                         'model__fit_intercept': [True, False],\n",
       "                                         'preprocessor': [ColumnTransformer(remainder='passthrough',\n",
       "                                                                            transformers=[('ohe',\n",
       "                                                                                           OneHotEncoder(),\n",
       "                                                                                           ['hour',\n",
       "                                                                                            'day_of_week'])])]}],\n",
       "                   scoring='neg_root_mean_squared_error')"
      ]
     },
     "execution_count": 22,
     "metadata": {},
     "output_type": "execute_result"
    }
   ],
   "source": [
    "%%time\n",
    "# Обучим модель на тренировочной выборке\n",
    "random_search.fit(train.drop(columns=['num_orders']), train['num_orders'])"
   ]
  },
  {
   "cell_type": "code",
   "execution_count": 23,
   "id": "c882a94c-4c86-43d3-a3de-1a848f938b4e",
   "metadata": {},
   "outputs": [
    {
     "name": "stdout",
     "output_type": "stream",
     "text": [
      "Лучшие параметры: {'preprocessor': ColumnTransformer(remainder='passthrough',\n",
      "                  transformers=[('ohe', OneHotEncoder(),\n",
      "                                 ['hour', 'day_of_week'])]), 'model__fit_intercept': True, 'model': LinearRegression()}\n",
      "RMSE на тестовой выборке: 34.73530686202537\n"
     ]
    },
    {
     "name": "stderr",
     "output_type": "stream",
     "text": [
      "/opt/conda/lib/python3.9/site-packages/sklearn/metrics/_regression.py:492: FutureWarning: 'squared' is deprecated in version 1.4 and will be removed in 1.6. To calculate the root mean squared error, use the function'root_mean_squared_error'.\n",
      "  warnings.warn(\n"
     ]
    }
   ],
   "source": [
    "# Лучшие параметры\n",
    "print(\"Лучшие параметры:\", random_search.best_params_)\n",
    "\n",
    "# Оценка на тестовой выборке\n",
    "y_pred = random_search.predict(test.drop(columns=['num_orders']))\n",
    "rmse = mean_squared_error(test['num_orders'], y_pred, squared=False)\n",
    "print(\"RMSE на тестовой выборке:\", rmse)"
   ]
  },
  {
   "cell_type": "code",
   "execution_count": 24,
   "id": "09bdd556-b366-4eaf-bc8d-ddc0fb9fff91",
   "metadata": {},
   "outputs": [
    {
     "data": {
      "image/png": "[encoded data removed]",
      "text/plain": [
       "<Figure size 1080x360 with 1 Axes>"
      ]
     },
     "metadata": {
      "needs_background": "light"
     },
     "output_type": "display_data"
    }
   ],
   "source": [
    "# Получим предсказания на тестовой выборке\n",
    "y_pred = random_search.best_estimator_.predict(test.drop(columns=['num_orders']))\n",
    "\n",
    "# Построим график сравнения реальных и предсказанных значений\n",
    "plt.figure(figsize=(15, 5))\n",
    "plt.plot(test.index, test['num_orders'], label='Реальные значения', alpha=0.7)\n",
    "plt.plot(test.index, y_pred, label='Предсказания', alpha=0.7)\n",
    "plt.title('Сравнение реальных и предсказанных значений')\n",
    "plt.xlabel('Дата')\n",
    "plt.ylabel('Количество заказов')\n",
    "plt.legend()\n",
    "plt.show()"
   ]
  },
  {
   "cell_type": "markdown",
   "id": "26b70be3-303a-4c3d-8c6a-017bd563f4f7",
   "metadata": {},
   "source": [
    "## Итоговые выводы\n",
    "\n",
    "1. **Подготовка данных и создание признаков:**\n",
    "   - Данные были ресемплированы по одному часу, добавлены временные признаки (час и день недели), а также созданы лаги и скользящие средние. Признак \"месяц\" был исключён, так как данные охватывали лишь шесть месяцев.\n",
    "   - Проведён анализ суточной и недельной сезонности, а также декомпозиция временного ряда для выделения тренда и циклов.\n",
    "\n",
    "2. **Моделирование и подбор гиперпараметров:**\n",
    "   - Использовали `RandomizedSearchCV` для поиска лучших гиперпараметров с различными моделями: `RandomForestRegressor`, `LinearRegression`, `LGBMRegressor`, и `XGBRegressor`.\n",
    "   - После устранения утечки данных `RandomForestRegressor` показал RMSE около 42.20. Однако, использование One-Hot Encoding (OHE) для линейной регрессии позволило добиться лучшего результата. Лучшая модель — `LinearRegression`, с гиперпараметрами: `fit_intercept=True`, и OHE для признаков \"час\" и \"день недели\".\n",
    "\n",
    "3. **Результаты тестирования:**\n",
    "   - RMSE на тестовой выборке составил 34.73, что значительно ниже порога в 48, установленного в задании. Это подтверждает, что линейные зависимости играют важную роль в данной задаче.\n",
    "\n",
    "Таким образом, задача выполнена успешно, и модель готова к использованию для прогнозирования количества заказов такси.\n",
    "\n"
   ]
  }
 ],
 "metadata": {
  "ExecuteTimeLog": [
   {
    "duration": 2755,
    "start_time": "2024-10-09T20:02:20.932Z"
   },
   {
    "duration": 3530,
    "start_time": "2024-10-09T20:02:23.690Z"
   },
   {
    "duration": 98,
    "start_time": "2024-10-09T20:02:27.223Z"
   },
   {
    "duration": 5,
    "start_time": "2024-10-09T20:02:27.323Z"
   },
   {
    "duration": 23,
    "start_time": "2024-10-09T20:02:27.330Z"
   },
   {
    "duration": 9,
    "start_time": "2024-10-09T20:02:27.354Z"
   },
   {
    "duration": 3,
    "start_time": "2024-10-09T20:02:27.365Z"
   },
   {
    "duration": 12,
    "start_time": "2024-10-09T20:02:27.370Z"
   },
   {
    "duration": 3,
    "start_time": "2024-10-09T20:02:27.384Z"
   },
   {
    "duration": 11,
    "start_time": "2024-10-09T20:02:27.390Z"
   },
   {
    "duration": 328,
    "start_time": "2024-10-09T20:02:27.403Z"
   },
   {
    "duration": 462,
    "start_time": "2024-10-09T20:02:27.733Z"
   },
   {
    "duration": 689,
    "start_time": "2024-10-09T20:02:28.196Z"
   },
   {
    "duration": 19,
    "start_time": "2024-10-09T20:02:28.886Z"
   },
   {
    "duration": 16,
    "start_time": "2024-10-09T20:02:28.906Z"
   },
   {
    "duration": 8,
    "start_time": "2024-10-09T20:02:28.923Z"
   },
   {
    "duration": 11,
    "start_time": "2024-10-09T20:02:28.932Z"
   },
   {
    "duration": 19,
    "start_time": "2024-10-09T20:02:28.944Z"
   },
   {
    "duration": 5,
    "start_time": "2024-10-09T20:02:28.964Z"
   },
   {
    "duration": 361818,
    "start_time": "2024-10-09T20:02:28.971Z"
   },
   {
    "duration": 11,
    "start_time": "2024-10-09T20:08:30.790Z"
   },
   {
    "duration": 315,
    "start_time": "2024-10-09T20:08:30.803Z"
   },
   {
    "duration": 2291,
    "start_time": "2024-10-09T20:09:20.780Z"
   },
   {
    "duration": 3175,
    "start_time": "2024-10-09T20:09:23.073Z"
   },
   {
    "duration": 56,
    "start_time": "2024-10-09T20:09:26.250Z"
   },
   {
    "duration": 6,
    "start_time": "2024-10-09T20:09:26.308Z"
   },
   {
    "duration": 5,
    "start_time": "2024-10-09T20:09:26.316Z"
   },
   {
    "duration": 6,
    "start_time": "2024-10-09T20:09:26.323Z"
   },
   {
    "duration": 6,
    "start_time": "2024-10-09T20:09:26.330Z"
   },
   {
    "duration": 27,
    "start_time": "2024-10-09T20:09:26.337Z"
   },
   {
    "duration": 14,
    "start_time": "2024-10-09T20:09:26.366Z"
   },
   {
    "duration": 16,
    "start_time": "2024-10-09T20:09:26.382Z"
   },
   {
    "duration": 415,
    "start_time": "2024-10-09T20:09:26.400Z"
   },
   {
    "duration": 470,
    "start_time": "2024-10-09T20:09:26.816Z"
   },
   {
    "duration": 706,
    "start_time": "2024-10-09T20:09:27.287Z"
   },
   {
    "duration": 20,
    "start_time": "2024-10-09T20:09:27.997Z"
   },
   {
    "duration": 4,
    "start_time": "2024-10-09T20:09:28.019Z"
   },
   {
    "duration": 6,
    "start_time": "2024-10-09T20:09:28.025Z"
   },
   {
    "duration": 4,
    "start_time": "2024-10-09T20:09:28.053Z"
   },
   {
    "duration": 10,
    "start_time": "2024-10-09T20:09:28.058Z"
   },
   {
    "duration": 8,
    "start_time": "2024-10-09T20:09:28.069Z"
   },
   {
    "duration": 157041,
    "start_time": "2024-10-09T20:09:28.078Z"
   },
   {
    "duration": 36,
    "start_time": "2024-10-09T20:12:05.120Z"
   },
   {
    "duration": 276,
    "start_time": "2024-10-09T20:12:05.157Z"
   },
   {
    "duration": 20,
    "start_time": "2024-10-09T20:39:46.224Z"
   },
   {
    "duration": 3173,
    "start_time": "2024-10-10T11:04:59.946Z"
   },
   {
    "duration": 1637,
    "start_time": "2024-10-10T11:05:03.122Z"
   },
   {
    "duration": 174,
    "start_time": "2024-10-10T11:05:04.760Z"
   },
   {
    "duration": 5,
    "start_time": "2024-10-10T11:05:04.935Z"
   },
   {
    "duration": 4,
    "start_time": "2024-10-10T11:05:04.942Z"
   },
   {
    "duration": 15,
    "start_time": "2024-10-10T11:05:04.947Z"
   },
   {
    "duration": 4,
    "start_time": "2024-10-10T11:05:04.964Z"
   },
   {
    "duration": 11,
    "start_time": "2024-10-10T11:05:04.969Z"
   },
   {
    "duration": 93,
    "start_time": "2024-10-10T11:05:04.981Z"
   },
   {
    "duration": 16,
    "start_time": "2024-10-10T11:05:05.075Z"
   },
   {
    "duration": 292,
    "start_time": "2024-10-10T11:05:05.092Z"
   },
   {
    "duration": 541,
    "start_time": "2024-10-10T11:05:05.386Z"
   },
   {
    "duration": 705,
    "start_time": "2024-10-10T11:05:05.928Z"
   },
   {
    "duration": 20,
    "start_time": "2024-10-10T11:05:06.636Z"
   },
   {
    "duration": 84,
    "start_time": "2024-10-10T11:05:06.657Z"
   },
   {
    "duration": 5,
    "start_time": "2024-10-10T11:05:06.743Z"
   },
   {
    "duration": 20,
    "start_time": "2024-10-10T11:05:06.749Z"
   },
   {
    "duration": 9,
    "start_time": "2024-10-10T11:05:06.770Z"
   },
   {
    "duration": 4,
    "start_time": "2024-10-10T11:05:06.781Z"
   },
   {
    "duration": 108207,
    "start_time": "2024-10-10T11:05:06.786Z"
   },
   {
    "duration": 82,
    "start_time": "2024-10-10T11:06:54.995Z"
   },
   {
    "duration": 297,
    "start_time": "2024-10-10T11:06:55.079Z"
   },
   {
    "duration": 14,
    "start_time": "2024-10-10T11:06:55.378Z"
   },
   {
    "duration": 68,
    "start_time": "2024-10-10T11:41:52.976Z"
   },
   {
    "duration": 4,
    "start_time": "2024-10-10T11:45:19.924Z"
   },
   {
    "duration": 8,
    "start_time": "2024-10-10T11:45:31.875Z"
   },
   {
    "duration": 850,
    "start_time": "2024-10-10T12:01:48.854Z"
   },
   {
    "duration": 79,
    "start_time": "2024-10-10T12:26:50.478Z"
   },
   {
    "duration": 173,
    "start_time": "2024-10-10T13:05:53.899Z"
   },
   {
    "duration": 51,
    "start_time": "2024-10-10T13:06:02.184Z"
   },
   {
    "duration": 4,
    "start_time": "2024-10-10T13:07:03.433Z"
   },
   {
    "duration": 4,
    "start_time": "2024-10-10T13:07:05.760Z"
   },
   {
    "duration": 2472,
    "start_time": "2024-10-10T13:25:26.105Z"
   },
   {
    "duration": 1568,
    "start_time": "2024-10-10T13:25:28.579Z"
   },
   {
    "duration": 53,
    "start_time": "2024-10-10T13:25:30.149Z"
   },
   {
    "duration": 6,
    "start_time": "2024-10-10T13:25:30.203Z"
   },
   {
    "duration": 49,
    "start_time": "2024-10-10T13:25:30.211Z"
   },
   {
    "duration": 68,
    "start_time": "2024-10-10T13:25:30.262Z"
   },
   {
    "duration": 36,
    "start_time": "2024-10-10T13:25:30.332Z"
   },
   {
    "duration": 51,
    "start_time": "2024-10-10T13:25:30.370Z"
   },
   {
    "duration": 3,
    "start_time": "2024-10-10T13:25:30.423Z"
   },
   {
    "duration": 41,
    "start_time": "2024-10-10T13:25:30.427Z"
   },
   {
    "duration": 352,
    "start_time": "2024-10-10T13:25:30.470Z"
   },
   {
    "duration": 462,
    "start_time": "2024-10-10T13:25:30.824Z"
   },
   {
    "duration": 952,
    "start_time": "2024-10-10T13:25:31.288Z"
   },
   {
    "duration": 53,
    "start_time": "2024-10-10T13:25:32.243Z"
   },
   {
    "duration": 4,
    "start_time": "2024-10-10T13:25:32.297Z"
   },
   {
    "duration": 28,
    "start_time": "2024-10-10T13:25:32.302Z"
   },
   {
    "duration": 7,
    "start_time": "2024-10-10T13:25:32.333Z"
   },
   {
    "duration": 6,
    "start_time": "2024-10-10T13:25:32.342Z"
   },
   {
    "duration": 15,
    "start_time": "2024-10-10T13:25:32.350Z"
   },
   {
    "duration": 567330,
    "start_time": "2024-10-10T13:25:32.368Z"
   },
   {
    "duration": 22,
    "start_time": "2024-10-10T13:34:59.699Z"
   },
   {
    "duration": 254,
    "start_time": "2024-10-10T13:34:59.722Z"
   },
   {
    "duration": 2400,
    "start_time": "2024-10-10T14:04:15.117Z"
   },
   {
    "duration": 1421,
    "start_time": "2024-10-10T14:04:17.520Z"
   },
   {
    "duration": 52,
    "start_time": "2024-10-10T14:04:18.942Z"
   },
   {
    "duration": 5,
    "start_time": "2024-10-10T14:04:18.996Z"
   },
   {
    "duration": 5,
    "start_time": "2024-10-10T14:04:19.002Z"
   },
   {
    "duration": 20,
    "start_time": "2024-10-10T14:04:19.009Z"
   },
   {
    "duration": 4,
    "start_time": "2024-10-10T14:04:19.031Z"
   },
   {
    "duration": 15,
    "start_time": "2024-10-10T14:04:19.036Z"
   },
   {
    "duration": 24,
    "start_time": "2024-10-10T14:04:19.052Z"
   },
   {
    "duration": 12,
    "start_time": "2024-10-10T14:04:19.078Z"
   },
   {
    "duration": 326,
    "start_time": "2024-10-10T14:04:19.091Z"
   },
   {
    "duration": 482,
    "start_time": "2024-10-10T14:04:19.418Z"
   },
   {
    "duration": 955,
    "start_time": "2024-10-10T14:04:19.901Z"
   },
   {
    "duration": 52,
    "start_time": "2024-10-10T14:04:20.859Z"
   },
   {
    "duration": 4,
    "start_time": "2024-10-10T14:04:20.913Z"
   },
   {
    "duration": 4,
    "start_time": "2024-10-10T14:04:20.919Z"
   },
   {
    "duration": 3,
    "start_time": "2024-10-10T14:04:20.925Z"
   },
   {
    "duration": 138,
    "start_time": "2024-10-10T14:04:20.929Z"
   },
   {
    "duration": 0,
    "start_time": "2024-10-10T14:04:21.069Z"
   },
   {
    "duration": 0,
    "start_time": "2024-10-10T14:04:21.070Z"
   },
   {
    "duration": 0,
    "start_time": "2024-10-10T14:04:21.071Z"
   },
   {
    "duration": 0,
    "start_time": "2024-10-10T14:04:21.076Z"
   },
   {
    "duration": 0,
    "start_time": "2024-10-10T14:04:21.078Z"
   },
   {
    "duration": 0,
    "start_time": "2024-10-10T14:04:21.079Z"
   },
   {
    "duration": 6,
    "start_time": "2024-10-10T14:06:26.670Z"
   },
   {
    "duration": 3,
    "start_time": "2024-10-10T14:06:37.820Z"
   },
   {
    "duration": 3,
    "start_time": "2024-10-10T14:06:39.147Z"
   },
   {
    "duration": 4,
    "start_time": "2024-10-10T14:06:40.366Z"
   },
   {
    "duration": 2,
    "start_time": "2024-10-10T14:06:43.912Z"
   },
   {
    "duration": 220744,
    "start_time": "2024-10-10T14:06:46.533Z"
   },
   {
    "duration": 99,
    "start_time": "2024-10-10T14:10:27.279Z"
   },
   {
    "duration": 0,
    "start_time": "2024-10-10T14:10:27.380Z"
   },
   {
    "duration": 4,
    "start_time": "2024-10-10T14:12:53.520Z"
   },
   {
    "duration": 12,
    "start_time": "2024-10-10T14:13:02.981Z"
   },
   {
    "duration": 411,
    "start_time": "2024-10-10T14:13:08.142Z"
   },
   {
    "duration": 2972,
    "start_time": "2024-10-10T18:46:20.170Z"
   },
   {
    "duration": 1781,
    "start_time": "2024-10-10T18:46:23.145Z"
   },
   {
    "duration": 102,
    "start_time": "2024-10-10T18:46:24.928Z"
   },
   {
    "duration": 7,
    "start_time": "2024-10-10T18:46:25.031Z"
   },
   {
    "duration": 39,
    "start_time": "2024-10-10T18:46:25.040Z"
   },
   {
    "duration": 31,
    "start_time": "2024-10-10T18:46:25.080Z"
   },
   {
    "duration": 13,
    "start_time": "2024-10-10T18:46:25.113Z"
   },
   {
    "duration": 30,
    "start_time": "2024-10-10T18:46:25.129Z"
   },
   {
    "duration": 15,
    "start_time": "2024-10-10T18:46:25.161Z"
   },
   {
    "duration": 12,
    "start_time": "2024-10-10T18:46:25.178Z"
   },
   {
    "duration": 324,
    "start_time": "2024-10-10T18:46:25.192Z"
   },
   {
    "duration": 562,
    "start_time": "2024-10-10T18:46:25.519Z"
   },
   {
    "duration": 929,
    "start_time": "2024-10-10T18:46:26.083Z"
   },
   {
    "duration": 51,
    "start_time": "2024-10-10T18:46:27.015Z"
   },
   {
    "duration": 10,
    "start_time": "2024-10-10T18:46:27.067Z"
   },
   {
    "duration": 46,
    "start_time": "2024-10-10T18:46:27.078Z"
   },
   {
    "duration": 10,
    "start_time": "2024-10-10T18:46:27.126Z"
   },
   {
    "duration": 23,
    "start_time": "2024-10-10T18:46:27.138Z"
   },
   {
    "duration": 30,
    "start_time": "2024-10-10T18:46:27.162Z"
   },
   {
    "duration": 4,
    "start_time": "2024-10-10T18:46:27.194Z"
   },
   {
    "duration": 18,
    "start_time": "2024-10-10T18:46:27.199Z"
   },
   {
    "duration": 357853,
    "start_time": "2024-10-10T18:46:27.219Z"
   },
   {
    "duration": 47,
    "start_time": "2024-10-10T18:52:25.074Z"
   },
   {
    "duration": 269,
    "start_time": "2024-10-10T18:52:25.123Z"
   },
   {
    "duration": 250,
    "start_time": "2024-10-10T19:02:59.279Z"
   },
   {
    "duration": 26,
    "start_time": "2024-10-10T19:03:02.442Z"
   },
   {
    "duration": 319462,
    "start_time": "2024-10-10T19:07:07.369Z"
   },
   {
    "duration": 13,
    "start_time": "2024-10-10T19:12:26.834Z"
   },
   {
    "duration": 597,
    "start_time": "2024-10-10T19:12:26.849Z"
   },
   {
    "duration": 442,
    "start_time": "2024-10-10T20:26:27.598Z"
   },
   {
    "duration": 12,
    "start_time": "2024-10-10T20:30:29.882Z"
   },
   {
    "duration": 2430,
    "start_time": "2024-10-10T20:38:17.443Z"
   },
   {
    "duration": 1557,
    "start_time": "2024-10-10T20:38:19.875Z"
   },
   {
    "duration": 51,
    "start_time": "2024-10-10T20:38:21.434Z"
   },
   {
    "duration": 6,
    "start_time": "2024-10-10T20:38:21.488Z"
   },
   {
    "duration": 3,
    "start_time": "2024-10-10T20:38:21.495Z"
   },
   {
    "duration": 10,
    "start_time": "2024-10-10T20:38:21.500Z"
   },
   {
    "duration": 4,
    "start_time": "2024-10-10T20:38:21.511Z"
   },
   {
    "duration": 14,
    "start_time": "2024-10-10T20:38:21.520Z"
   },
   {
    "duration": 3,
    "start_time": "2024-10-10T20:38:21.536Z"
   },
   {
    "duration": 14,
    "start_time": "2024-10-10T20:38:21.541Z"
   },
   {
    "duration": 346,
    "start_time": "2024-10-10T20:38:21.556Z"
   },
   {
    "duration": 466,
    "start_time": "2024-10-10T20:38:21.904Z"
   },
   {
    "duration": 904,
    "start_time": "2024-10-10T20:38:22.371Z"
   },
   {
    "duration": 55,
    "start_time": "2024-10-10T20:38:23.277Z"
   },
   {
    "duration": 5,
    "start_time": "2024-10-10T20:38:23.334Z"
   },
   {
    "duration": 10,
    "start_time": "2024-10-10T20:38:23.340Z"
   },
   {
    "duration": 8,
    "start_time": "2024-10-10T20:38:23.352Z"
   },
   {
    "duration": 5,
    "start_time": "2024-10-10T20:38:23.362Z"
   },
   {
    "duration": 41,
    "start_time": "2024-10-10T20:38:23.368Z"
   },
   {
    "duration": 9,
    "start_time": "2024-10-10T20:38:23.411Z"
   },
   {
    "duration": 4,
    "start_time": "2024-10-10T20:38:23.422Z"
   },
   {
    "duration": 119104,
    "start_time": "2024-10-10T20:38:23.428Z"
   },
   {
    "duration": 89,
    "start_time": "2024-10-10T20:40:22.534Z"
   },
   {
    "duration": 506,
    "start_time": "2024-10-10T20:40:22.626Z"
   },
   {
    "duration": 5353,
    "start_time": "2024-10-10T20:56:28.233Z"
   },
   {
    "duration": 4980,
    "start_time": "2024-10-10T20:56:33.589Z"
   },
   {
    "duration": 96,
    "start_time": "2024-10-10T20:56:38.571Z"
   },
   {
    "duration": 6,
    "start_time": "2024-10-10T20:56:38.670Z"
   },
   {
    "duration": 4,
    "start_time": "2024-10-10T20:56:38.680Z"
   },
   {
    "duration": 81,
    "start_time": "2024-10-10T20:56:38.686Z"
   },
   {
    "duration": 4,
    "start_time": "2024-10-10T20:56:38.770Z"
   },
   {
    "duration": 24,
    "start_time": "2024-10-10T20:56:38.776Z"
   },
   {
    "duration": 3,
    "start_time": "2024-10-10T20:56:38.802Z"
   },
   {
    "duration": 101,
    "start_time": "2024-10-10T20:56:38.865Z"
   },
   {
    "duration": 718,
    "start_time": "2024-10-10T20:56:38.968Z"
   },
   {
    "duration": 900,
    "start_time": "2024-10-10T20:56:39.689Z"
   },
   {
    "duration": 1802,
    "start_time": "2024-10-10T20:56:40.591Z"
   },
   {
    "duration": 113,
    "start_time": "2024-10-10T20:56:42.397Z"
   },
   {
    "duration": 57,
    "start_time": "2024-10-10T20:56:42.511Z"
   },
   {
    "duration": 3,
    "start_time": "2024-10-10T20:56:42.570Z"
   },
   {
    "duration": 4,
    "start_time": "2024-10-10T20:56:42.575Z"
   },
   {
    "duration": 6,
    "start_time": "2024-10-10T20:56:42.581Z"
   },
   {
    "duration": 5,
    "start_time": "2024-10-10T20:56:42.589Z"
   },
   {
    "duration": 69,
    "start_time": "2024-10-10T20:56:42.596Z"
   },
   {
    "duration": 6,
    "start_time": "2024-10-10T20:56:42.668Z"
   },
   {
    "duration": 2022424,
    "start_time": "2024-10-10T20:56:42.676Z"
   },
   {
    "duration": 13,
    "start_time": "2024-10-10T21:30:25.101Z"
   },
   {
    "duration": 531,
    "start_time": "2024-10-10T21:30:25.116Z"
   }
  ],
  "kernelspec": {
   "display_name": "Python 3 (ipykernel)",
   "language": "python",
   "name": "python3"
  },
  "language_info": {
   "codemirror_mode": {
    "name": "ipython",
    "version": 3
   },
   "file_extension": ".py",
   "mimetype": "text/x-python",
   "name": "python",
   "nbconvert_exporter": "python",
   "pygments_lexer": "ipython3",
   "version": "3.11.4"
  },
  "toc": {
   "base_numbering": 1,
   "nav_menu": {},
   "number_sections": true,
   "sideBar": true,
   "skip_h1_title": true,
   "title_cell": "Table of Contents",
   "title_sidebar": "Contents",
   "toc_cell": false,
   "toc_position": {},
   "toc_section_display": true,
   "toc_window_display": false
  }
 },
 "nbformat": 4,
 "nbformat_minor": 5
}
